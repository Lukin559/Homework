{
  "nbformat": 4,
  "nbformat_minor": 0,
  "metadata": {
    "colab": {
      "name": "Untitled1.ipynb",
      "provenance": [],
      "collapsed_sections": []
    },
    "kernelspec": {
      "name": "python3",
      "display_name": "Python 3"
    }
  },
  "cells": [
    {
      "cell_type": "code",
      "metadata": {
        "id": "uW0CQaBFbcUq",
        "colab_type": "code",
        "colab": {
          "base_uri": "https://localhost:8080/",
          "height": 34
        },
        "outputId": "a1c1908f-c711-4952-9400-c2cc30f51373"
      },
      "source": [
        "c = 7777\n",
        "a = c // 1000\n",
        "b = ((c - a*1000) // 100 ) % 10\n",
        "k = ((c - a*1000 - b *100) // 10) % 10\n",
        "l = c - a*1000 - b *100 - k*10\n",
        "g = a + b + k + l\n",
        "g"
      ],
      "execution_count": 1,
      "outputs": [
        {
          "output_type": "execute_result",
          "data": {
            "text/plain": [
              "28"
            ]
          },
          "metadata": {
            "tags": []
          },
          "execution_count": 1
        }
      ]
    }
  ]
}