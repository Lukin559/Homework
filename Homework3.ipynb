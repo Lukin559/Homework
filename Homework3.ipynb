{
  "nbformat": 4,
  "nbformat_minor": 0,
  "metadata": {
    "colab": {
      "name": "Homework3.ipynb",
      "provenance": [],
      "collapsed_sections": [],
      "authorship_tag": "ABX9TyMMPnF2SdJJ/zPlf7hxUhXF",
      "include_colab_link": true
    },
    "kernelspec": {
      "name": "python3",
      "display_name": "Python 3"
    }
  },
  "cells": [
    {
      "cell_type": "markdown",
      "metadata": {
        "id": "view-in-github",
        "colab_type": "text"
      },
      "source": [
        "<a href=\"https://colab.research.google.com/github/Lukin559/Homework/blob/master/Homework3.ipynb\" target=\"_parent\"><img src=\"https://colab.research.google.com/assets/colab-badge.svg\" alt=\"Open In Colab\"/></a>"
      ]
    },
    {
      "cell_type": "code",
      "metadata": {
        "id": "6ywCif2hB_n6",
        "colab_type": "code",
        "colab": {}
      },
      "source": [
        "import random\n",
        "a = random.choices(range(100), k = 100)\n",
        "print(a)"
      ],
      "execution_count": null,
      "outputs": []
    },
    {
      "cell_type": "code",
      "metadata": {
        "id": "2qw-_yE8DOWw",
        "colab_type": "code",
        "colab": {}
      },
      "source": [
        "a = {89, 88, 98, 39, 66, 7, 20, 35, 76, 96, 37, 0, 43, 71, 65, 15, 93, 57, 61, 12, 54, 42, 92, 66, 47, 94, 2, 2, 78, 10, 53, 72, 82, 56, 15, 77, 46, 96, 26, 43, 86, 65, 27, 0, 13, 72, 99, 29, 95, 15, 27, 43, 1, 11, 85, 18, 25, 97, 13, 79, 43, 25, 46, 84, 47, 73, 82, 60, 52, 13, 78, 66, 28, 47, 17, 15, 47, 33, 84, 20, 44, 73, 79, 32, 55, 91, 13, 32, 79, 80, 60, 40, 55, 4, 9, 27, 12, 54, 29}\n",
        "\n",
        "s = set(a)\n",
        "\n",
        "\n",
        "g = list(s)\n",
        "g"
      ],
      "execution_count": null,
      "outputs": []
    },
    {
      "cell_type": "code",
      "metadata": {
        "id": "b01HTiRIMIfw",
        "colab_type": "code",
        "colab": {
          "base_uri": "https://localhost:8080/",
          "height": 34
        },
        "outputId": "c699006a-d95f-4373-f423-677522a3fbd2"
      },
      "source": [
        "# Задание 5\n",
        "b = [x for x in range(-100, 200) if x % 15 == 6 ]\n",
        "print(b)"
      ],
      "execution_count": null,
      "outputs": [
        {
          "output_type": "stream",
          "text": [
            "[-99, -84, -69, -54, -39, -24, -9, 6, 21, 36, 51, 66, 81, 96, 111, 126, 141, 156, 171, 186]\n"
          ],
          "name": "stdout"
        }
      ]
    },
    {
      "cell_type": "code",
      "metadata": {
        "id": "CvwB4WI2XS2_",
        "colab_type": "code",
        "colab": {
          "base_uri": "https://localhost:8080/",
          "height": 34
        },
        "outputId": "e8c9a56b-37cf-4348-fe60-118afde3cc1c"
      },
      "source": [
        "список = [1, 3, 4, 9, 0]\n",
        "список.reverse()\n",
        "список\n",
        "список.insert(2, '--$--')\n",
        "список"
      ],
      "execution_count": null,
      "outputs": [
        {
          "output_type": "execute_result",
          "data": {
            "text/plain": [
              "[0, 9, '--$--', 4, 3, 1]"
            ]
          },
          "metadata": {
            "tags": []
          },
          "execution_count": 11
        }
      ]
    },
    {
      "cell_type": "code",
      "metadata": {
        "id": "tqRoMpNdsBL7",
        "colab_type": "code",
        "colab": {}
      },
      "source": [
        " set_1 = {1, 5, 'burger', 6}\n",
        " set_2 = {1, 6}\n",
        " if set_1 > set_2:\n",
        "   print(set_1 - set_2)\n",
        " \n"
      ],
      "execution_count": null,
      "outputs": []
    }
  ]
}